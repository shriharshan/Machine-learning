{
 "cells": [
  {
   "cell_type": "code",
   "execution_count": 1,
   "metadata": {},
   "outputs": [],
   "source": [
    "from keras.datasets import mnist\n",
    "from keras import Sequential\n",
    "from keras.layers import Dense, Dropout, Conv2D, MaxPool2D, Flatten\n",
    "from keras import utils\n",
    "from sklearn.metrics import accuracy_score"
   ]
  },
  {
   "cell_type": "code",
   "execution_count": 2,
   "metadata": {},
   "outputs": [],
   "source": [
    "(X_train, y_train), (X_test, y_test) = mnist.load_data()"
   ]
  },
  {
   "cell_type": "code",
   "execution_count": 3,
   "metadata": {},
   "outputs": [],
   "source": [
    "X_train = X_train.reshape(X_train.shape[0], 28, 28, 1)\n",
    "X_test = X_test.reshape(X_test.shape[0], 28, 28, 1)\n",
    "X_train = X_train.astype('float32')\n",
    "X_test = X_test.astype('float32')"
   ]
  },
  {
   "cell_type": "code",
   "execution_count": 4,
   "metadata": {},
   "outputs": [],
   "source": [
    "X_train /= 255\n",
    "X_test /= 255"
   ]
  },
  {
   "cell_type": "code",
   "execution_count": 5,
   "metadata": {},
   "outputs": [
    {
     "name": "stdout",
     "output_type": "stream",
     "text": [
      "Shape before one_hot encoding:  (60000,)\n",
      "Shape after one_hot encoding:  (60000, 10)\n"
     ]
    }
   ],
   "source": [
    "#one hot encoding using keras numpy-related utitlities\n",
    "n_classes = 10\n",
    "print(\"Shape before one_hot encoding: \", y_train.shape)\n",
    "Y_train = utils.to_categorical(y_train, n_classes)\n",
    "Y_test = utils.to_categorical(y_test, n_classes)\n",
    "print(\"Shape after one_hot encoding: \", Y_train.shape)"
   ]
  },
  {
   "cell_type": "code",
   "execution_count": 6,
   "metadata": {},
   "outputs": [],
   "source": [
    "# building linear stack of layers with the sequential model.\n",
    "model = Sequential()\n",
    "# convolution layer\n",
    "model.add(Conv2D(25,kernel_size=(3,3), strides=(1,1), padding = 'valid', activation = 'relu', input_shape = (28,28,1)))\n",
    "model.add(MaxPool2D(pool_size=(1,1)))\n",
    "# Flaten output of conv\n",
    "model.add(Flatten())\n",
    "#hidden layer\n",
    "model.add(Dense(100, activation='relu'))\n",
    "#output layer\n",
    "model.add(Dense(10, activation='softmax'))"
   ]
  },
  {
   "cell_type": "code",
   "execution_count": 7,
   "metadata": {},
   "outputs": [
    {
     "name": "stdout",
     "output_type": "stream",
     "text": [
      "Model: \"sequential\"\n",
      "_________________________________________________________________\n",
      " Layer (type)                Output Shape              Param #   \n",
      "=================================================================\n",
      " conv2d (Conv2D)             (None, 26, 26, 25)        250       \n",
      "                                                                 \n",
      " max_pooling2d (MaxPooling2  (None, 26, 26, 25)        0         \n",
      " D)                                                              \n",
      "                                                                 \n",
      " flatten (Flatten)           (None, 16900)             0         \n",
      "                                                                 \n",
      " dense (Dense)               (None, 100)               1690100   \n",
      "                                                                 \n",
      " dense_1 (Dense)             (None, 10)                1010      \n",
      "                                                                 \n",
      "=================================================================\n",
      "Total params: 1691360 (6.45 MB)\n",
      "Trainable params: 1691360 (6.45 MB)\n",
      "Non-trainable params: 0 (0.00 Byte)\n",
      "_________________________________________________________________\n",
      "Epoch 1/10\n",
      "469/469 [==============================] - 23s 47ms/step - loss: 0.2070 - accuracy: 0.9396 - val_loss: 0.0849 - val_accuracy: 0.9741\n",
      "Epoch 2/10\n",
      "469/469 [==============================] - 23s 49ms/step - loss: 0.0640 - accuracy: 0.9816 - val_loss: 0.0548 - val_accuracy: 0.9816\n",
      "Epoch 3/10\n",
      "469/469 [==============================] - 23s 48ms/step - loss: 0.0374 - accuracy: 0.9896 - val_loss: 0.0595 - val_accuracy: 0.9800\n",
      "Epoch 4/10\n",
      "469/469 [==============================] - 22s 47ms/step - loss: 0.0233 - accuracy: 0.9928 - val_loss: 0.0466 - val_accuracy: 0.9855\n",
      "Epoch 5/10\n",
      "469/469 [==============================] - 22s 48ms/step - loss: 0.0146 - accuracy: 0.9956 - val_loss: 0.0587 - val_accuracy: 0.9807\n",
      "Epoch 6/10\n",
      "469/469 [==============================] - 22s 47ms/step - loss: 0.0103 - accuracy: 0.9972 - val_loss: 0.0602 - val_accuracy: 0.9823\n",
      "Epoch 7/10\n",
      "469/469 [==============================] - 23s 48ms/step - loss: 0.0085 - accuracy: 0.9975 - val_loss: 0.0539 - val_accuracy: 0.9834\n",
      "Epoch 8/10\n",
      "469/469 [==============================] - 23s 49ms/step - loss: 0.0049 - accuracy: 0.9988 - val_loss: 0.0593 - val_accuracy: 0.9845\n",
      "Epoch 9/10\n",
      "469/469 [==============================] - 23s 50ms/step - loss: 0.0021 - accuracy: 0.9997 - val_loss: 0.0642 - val_accuracy: 0.9837\n",
      "Epoch 10/10\n",
      "469/469 [==============================] - 23s 49ms/step - loss: 0.0049 - accuracy: 0.9984 - val_loss: 0.0675 - val_accuracy: 0.9813\n"
     ]
    },
    {
     "data": {
      "text/plain": [
       "<keras.src.callbacks.History at 0x20e9b790670>"
      ]
     },
     "execution_count": 7,
     "metadata": {},
     "output_type": "execute_result"
    }
   ],
   "source": [
    "model.summary()\n",
    "model.compile(loss='categorical_crossentropy', metrics=['accuracy'], optimizer='adam')\n",
    "# training the model for 10 epochs\n",
    "model.fit(X_train, Y_train, batch_size=128, epochs=10, validation_data=(X_test, Y_test))"
   ]
  }
 ],
 "metadata": {
  "kernelspec": {
   "display_name": "Python 3 (ipykernel)",
   "language": "python",
   "name": "python3"
  },
  "language_info": {
   "codemirror_mode": {
    "name": "ipython",
    "version": 3
   },
   "file_extension": ".py",
   "mimetype": "text/x-python",
   "name": "python",
   "nbconvert_exporter": "python",
   "pygments_lexer": "ipython3",
   "version": "3.9.17"
  }
 },
 "nbformat": 4,
 "nbformat_minor": 4
}
