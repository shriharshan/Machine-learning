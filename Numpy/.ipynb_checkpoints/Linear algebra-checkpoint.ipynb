{
 "cells": [
  {
   "cell_type": "code",
   "execution_count": 1,
   "id": "9a2ad47c-d696-4667-a21a-fe9a8dcc242f",
   "metadata": {},
   "outputs": [],
   "source": [
    "import numpy as np"
   ]
  },
  {
   "cell_type": "markdown",
   "id": "efce4625-6241-442b-bef1-a76ce7ee8048",
   "metadata": {},
   "source": [
    "### Dot Product"
   ]
  },
  {
   "cell_type": "markdown",
   "id": "77f5b2ee-4042-4ad1-848c-4575644c6d66",
   "metadata": {},
   "source": [
    "- The dot function gives the dot product of 2 matrices. It is similar to matrix multiplication \n",
    "- The vdot function is used for the dot product of two or more vectors. it is equivalent to the sum of the array elements"
   ]
  },
  {
   "cell_type": "code",
   "execution_count": 2,
   "id": "4a2be5e7-231f-417b-954a-3f3145f6b136",
   "metadata": {},
   "outputs": [
    {
     "data": {
      "text/plain": [
       "(array([[1, 2],\n",
       "        [3, 4]]),\n",
       " array([[5, 6],\n",
       "        [7, 8]]))"
      ]
     },
     "execution_count": 2,
     "metadata": {},
     "output_type": "execute_result"
    }
   ],
   "source": [
    "arr1 = np.array([[1,2],[3,4]])\n",
    "arr2 = np.array([[5,6],[7,8]])\n",
    "arr1, arr2"
   ]
  },
  {
   "cell_type": "code",
   "execution_count": 3,
   "id": "2ac123a1-fd49-4f33-bf5f-67df9b25a137",
   "metadata": {},
   "outputs": [
    {
     "data": {
      "text/plain": [
       "array([[19, 22],\n",
       "       [43, 50]])"
      ]
     },
     "execution_count": 3,
     "metadata": {},
     "output_type": "execute_result"
    }
   ],
   "source": [
    "np.dot(arr1,arr2)"
   ]
  },
  {
   "cell_type": "code",
   "execution_count": 4,
   "id": "86df44f5-a483-46a4-bed1-7982b0816fb8",
   "metadata": {},
   "outputs": [
    {
     "data": {
      "text/plain": [
       "70"
      ]
     },
     "execution_count": 4,
     "metadata": {},
     "output_type": "execute_result"
    }
   ],
   "source": [
    "np.vdot(arr1,arr2)\n",
    "# it flatterns both arr1 and arr2 into 1-D array '[1,2,3,4]' and '[5,6,7,8]', then computes their dot product\n",
    "# 1*5 + 2*6 + 3*7 + 4*8 = 70"
   ]
  },
  {
   "cell_type": "markdown",
   "id": "ab7a08a1-4520-4b30-9f77-ad68d4877e8c",
   "metadata": {},
   "source": [
    "## Inner and Outer functions"
   ]
  },
  {
   "cell_type": "code",
   "execution_count": 5,
   "id": "20387e30-e052-4267-9718-023fe93d5bb8",
   "metadata": {},
   "outputs": [
    {
     "data": {
      "text/plain": [
       "(array([1, 2, 3]), array([7, 8, 9]))"
      ]
     },
     "execution_count": 5,
     "metadata": {},
     "output_type": "execute_result"
    }
   ],
   "source": [
    "a = np.array([1,2,3])\n",
    "b = np.array([7,8,9])\n",
    "a,b"
   ]
  },
  {
   "cell_type": "code",
   "execution_count": 6,
   "id": "481d3c8b-44de-4e4a-a36f-5f502f298ed2",
   "metadata": {},
   "outputs": [
    {
     "data": {
      "text/plain": [
       "50"
      ]
     },
     "execution_count": 6,
     "metadata": {},
     "output_type": "execute_result"
    }
   ],
   "source": [
    "np.inner(a,b)"
   ]
  },
  {
   "cell_type": "code",
   "execution_count": 7,
   "id": "550ca4f4-7236-4fa2-86f9-5d7cb7d9fb18",
   "metadata": {},
   "outputs": [
    {
     "data": {
      "text/plain": [
       "array([[ 7,  8,  9],\n",
       "       [14, 16, 18],\n",
       "       [21, 24, 27]])"
      ]
     },
     "execution_count": 7,
     "metadata": {},
     "output_type": "execute_result"
    }
   ],
   "source": [
    "np.outer(a,b)"
   ]
  },
  {
   "cell_type": "markdown",
   "id": "9919eff5-c57f-4527-9434-8f85381623bb",
   "metadata": {},
   "source": [
    "## Matrix Functions"
   ]
  },
  {
   "cell_type": "code",
   "execution_count": 8,
   "id": "669220fe-9d37-4a57-ab0d-dc16ec7b0f39",
   "metadata": {},
   "outputs": [],
   "source": [
    "a = np.array([4,5,6])\n",
    "b = np.array([7,8,9])"
   ]
  },
  {
   "cell_type": "code",
   "execution_count": 9,
   "id": "522ca7fb-56a2-470f-be4e-34b68570c3c3",
   "metadata": {},
   "outputs": [
    {
     "data": {
      "text/plain": [
       "122"
      ]
     },
     "execution_count": 9,
     "metadata": {},
     "output_type": "execute_result"
    }
   ],
   "source": [
    "np.matmul(a,b) # 4*7 + 5*8 + 6*9"
   ]
  },
  {
   "cell_type": "markdown",
   "id": "d99ac526-aa6c-4955-8f54-992c5e6cf592",
   "metadata": {},
   "source": [
    "### Determinant function"
   ]
  },
  {
   "cell_type": "code",
   "execution_count": 10,
   "id": "7edd8a0d-28cc-46c2-b463-a4ec97984227",
   "metadata": {},
   "outputs": [
    {
     "data": {
      "text/plain": [
       "-2.000000000000003"
      ]
     },
     "execution_count": 10,
     "metadata": {},
     "output_type": "execute_result"
    }
   ],
   "source": [
    "a = np.array([[4,5],[6,7]])\n",
    "np.linalg.det(a)"
   ]
  },
  {
   "cell_type": "markdown",
   "id": "f162b847-6851-4033-b43d-0a5e1e2f3dc0",
   "metadata": {},
   "source": [
    "### The solve function is used to evaluate quadratic equations"
   ]
  },
  {
   "cell_type": "code",
   "execution_count": 11,
   "id": "39cfdbc3-b503-437d-8d9e-e3c0616c2101",
   "metadata": {},
   "outputs": [
    {
     "data": {
      "text/plain": [
       "array([[-3., -4.],\n",
       "       [ 4.,  5.]])"
      ]
     },
     "execution_count": 11,
     "metadata": {},
     "output_type": "execute_result"
    }
   ],
   "source": [
    "a = np.array([[1,2],[3,4]])\n",
    "b = np.array([[5,6],[7,8]])\n",
    "np.linalg.solve(a,b)"
   ]
  },
  {
   "cell_type": "markdown",
   "id": "89e6ca60-6001-47d0-9792-6b1de84a098f",
   "metadata": {},
   "source": [
    "### `Inverse`function return the multiplicative inverse of the input matrix"
   ]
  },
  {
   "cell_type": "code",
   "execution_count": 12,
   "id": "d8d3773b-de6e-40e3-9c59-eca92ad891df",
   "metadata": {},
   "outputs": [
    {
     "data": {
      "text/plain": [
       "array([[-2. ,  1. ],\n",
       "       [ 1.5, -0.5]])"
      ]
     },
     "execution_count": 12,
     "metadata": {},
     "output_type": "execute_result"
    }
   ],
   "source": [
    "a = np.array([[1,2],[3,4]])\n",
    "np.linalg.inv(a)"
   ]
  },
  {
   "cell_type": "markdown",
   "id": "c4bf7754-efe0-4971-abe8-25d8654c59db",
   "metadata": {},
   "source": [
    "###  `Trace` function return the sum of all the diagonal values"
   ]
  },
  {
   "cell_type": "code",
   "execution_count": 13,
   "id": "0044f64d-7af3-42fe-a68c-1df293722d49",
   "metadata": {},
   "outputs": [
    {
     "data": {
      "text/plain": [
       "5"
      ]
     },
     "execution_count": 13,
     "metadata": {},
     "output_type": "execute_result"
    }
   ],
   "source": [
    "a = np.array([[1,2],[3,4]])\n",
    "np.trace(a)"
   ]
  },
  {
   "cell_type": "code",
   "execution_count": null,
   "id": "2160a8c9-707e-4a82-a1e9-9542508be24a",
   "metadata": {},
   "outputs": [],
   "source": []
  }
 ],
 "metadata": {
  "kernelspec": {
   "display_name": "Python 3 (ipykernel)",
   "language": "python",
   "name": "python3"
  },
  "language_info": {
   "codemirror_mode": {
    "name": "ipython",
    "version": 3
   },
   "file_extension": ".py",
   "mimetype": "text/x-python",
   "name": "python",
   "nbconvert_exporter": "python",
   "pygments_lexer": "ipython3",
   "version": "3.10.9"
  }
 },
 "nbformat": 4,
 "nbformat_minor": 5
}
