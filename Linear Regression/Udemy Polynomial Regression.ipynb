{
 "cells": [
  {
   "cell_type": "code",
   "execution_count": 1,
   "id": "b7638b9c",
   "metadata": {},
   "outputs": [],
   "source": [
    "import numpy as np\n",
    "import pandas as pd\n",
    "import matplotlib.pyplot as plt\n",
    "import seaborn as sns"
   ]
  },
  {
   "cell_type": "code",
   "execution_count": 2,
   "id": "f0d4a09c",
   "metadata": {},
   "outputs": [],
   "source": [
    "df = pd.read_csv(\"/home/harshan/Downloads/All dataset/08-Linear-Regression-Models/Advertising.csv\")"
   ]
  },
  {
   "cell_type": "code",
   "execution_count": 3,
   "id": "2cbe80ae",
   "metadata": {},
   "outputs": [
    {
     "data": {
      "text/html": [
       "<div>\n",
       "<style scoped>\n",
       "    .dataframe tbody tr th:only-of-type {\n",
       "        vertical-align: middle;\n",
       "    }\n",
       "\n",
       "    .dataframe tbody tr th {\n",
       "        vertical-align: top;\n",
       "    }\n",
       "\n",
       "    .dataframe thead th {\n",
       "        text-align: right;\n",
       "    }\n",
       "</style>\n",
       "<table border=\"1\" class=\"dataframe\">\n",
       "  <thead>\n",
       "    <tr style=\"text-align: right;\">\n",
       "      <th></th>\n",
       "      <th>TV</th>\n",
       "      <th>radio</th>\n",
       "      <th>newspaper</th>\n",
       "      <th>sales</th>\n",
       "    </tr>\n",
       "  </thead>\n",
       "  <tbody>\n",
       "    <tr>\n",
       "      <th>0</th>\n",
       "      <td>230.1</td>\n",
       "      <td>37.8</td>\n",
       "      <td>69.2</td>\n",
       "      <td>22.1</td>\n",
       "    </tr>\n",
       "    <tr>\n",
       "      <th>1</th>\n",
       "      <td>44.5</td>\n",
       "      <td>39.3</td>\n",
       "      <td>45.1</td>\n",
       "      <td>10.4</td>\n",
       "    </tr>\n",
       "    <tr>\n",
       "      <th>2</th>\n",
       "      <td>17.2</td>\n",
       "      <td>45.9</td>\n",
       "      <td>69.3</td>\n",
       "      <td>9.3</td>\n",
       "    </tr>\n",
       "    <tr>\n",
       "      <th>3</th>\n",
       "      <td>151.5</td>\n",
       "      <td>41.3</td>\n",
       "      <td>58.5</td>\n",
       "      <td>18.5</td>\n",
       "    </tr>\n",
       "    <tr>\n",
       "      <th>4</th>\n",
       "      <td>180.8</td>\n",
       "      <td>10.8</td>\n",
       "      <td>58.4</td>\n",
       "      <td>12.9</td>\n",
       "    </tr>\n",
       "  </tbody>\n",
       "</table>\n",
       "</div>"
      ],
      "text/plain": [
       "      TV  radio  newspaper  sales\n",
       "0  230.1   37.8       69.2   22.1\n",
       "1   44.5   39.3       45.1   10.4\n",
       "2   17.2   45.9       69.3    9.3\n",
       "3  151.5   41.3       58.5   18.5\n",
       "4  180.8   10.8       58.4   12.9"
      ]
     },
     "execution_count": 3,
     "metadata": {},
     "output_type": "execute_result"
    }
   ],
   "source": [
    "df.head()"
   ]
  },
  {
   "cell_type": "code",
   "execution_count": 4,
   "id": "6bbffcdb",
   "metadata": {},
   "outputs": [],
   "source": [
    "X = df.drop('sales',axis=1)"
   ]
  },
  {
   "cell_type": "code",
   "execution_count": 5,
   "id": "00aff19a",
   "metadata": {},
   "outputs": [],
   "source": [
    "y = df['sales']"
   ]
  },
  {
   "cell_type": "markdown",
   "id": "35a062ea",
   "metadata": {},
   "source": [
    "# Polynomial Regression"
   ]
  },
  {
   "cell_type": "code",
   "execution_count": 6,
   "id": "3c00f1e7",
   "metadata": {},
   "outputs": [],
   "source": [
    "from sklearn.preprocessing import PolynomialFeatures"
   ]
  },
  {
   "cell_type": "code",
   "execution_count": 7,
   "id": "425b5c19",
   "metadata": {},
   "outputs": [],
   "source": [
    "polynomial_converter = PolynomialFeatures(degree=2, include_bias=False)"
   ]
  },
  {
   "cell_type": "code",
   "execution_count": 8,
   "id": "590e83ea",
   "metadata": {},
   "outputs": [
    {
     "data": {
      "text/plain": [
       "PolynomialFeatures(include_bias=False)"
      ]
     },
     "execution_count": 8,
     "metadata": {},
     "output_type": "execute_result"
    }
   ],
   "source": [
    "polynomial_converter.fit(X)"
   ]
  },
  {
   "cell_type": "code",
   "execution_count": 9,
   "id": "46f66131",
   "metadata": {},
   "outputs": [],
   "source": [
    "poly_features = polynomial_converter.transform(X)"
   ]
  },
  {
   "cell_type": "code",
   "execution_count": 10,
   "id": "0cef0f9a",
   "metadata": {},
   "outputs": [
    {
     "data": {
      "text/plain": [
       "(200, 9)"
      ]
     },
     "execution_count": 10,
     "metadata": {},
     "output_type": "execute_result"
    }
   ],
   "source": [
    "poly_features.shape # 3 original, 3 interaction, 3 squared terms"
   ]
  },
  {
   "cell_type": "code",
   "execution_count": 11,
   "id": "b23b1f01",
   "metadata": {},
   "outputs": [
    {
     "data": {
      "text/plain": [
       "TV           230.1\n",
       "radio         37.8\n",
       "newspaper     69.2\n",
       "Name: 0, dtype: float64"
      ]
     },
     "execution_count": 11,
     "metadata": {},
     "output_type": "execute_result"
    }
   ],
   "source": [
    "X.iloc[0]"
   ]
  },
  {
   "cell_type": "code",
   "execution_count": 12,
   "id": "45bbc1b3",
   "metadata": {},
   "outputs": [
    {
     "data": {
      "text/plain": [
       "array([2.301000e+02, 3.780000e+01, 6.920000e+01, 5.294601e+04,\n",
       "       8.697780e+03, 1.592292e+04, 1.428840e+03, 2.615760e+03,\n",
       "       4.788640e+03])"
      ]
     },
     "execution_count": 12,
     "metadata": {},
     "output_type": "execute_result"
    }
   ],
   "source": [
    "poly_features[0]"
   ]
  },
  {
   "cell_type": "code",
   "execution_count": 13,
   "id": "ca3dabc7",
   "metadata": {},
   "outputs": [
    {
     "data": {
      "text/plain": [
       "8697.779999999999"
      ]
     },
     "execution_count": 13,
     "metadata": {},
     "output_type": "execute_result"
    }
   ],
   "source": [
    "230.1*37.8"
   ]
  },
  {
   "cell_type": "code",
   "execution_count": 14,
   "id": "51b510ba",
   "metadata": {},
   "outputs": [
    {
     "data": {
      "text/plain": [
       "52946.009999999995"
      ]
     },
     "execution_count": 14,
     "metadata": {},
     "output_type": "execute_result"
    }
   ],
   "source": [
    "230.1**2"
   ]
  },
  {
   "cell_type": "code",
   "execution_count": 15,
   "id": "01ec9271",
   "metadata": {},
   "outputs": [],
   "source": [
    "from sklearn.model_selection import train_test_split"
   ]
  },
  {
   "cell_type": "markdown",
   "id": "a4af9bee",
   "metadata": {},
   "source": [
    "# Train the Data"
   ]
  },
  {
   "cell_type": "code",
   "execution_count": 16,
   "id": "90c3e6c8",
   "metadata": {},
   "outputs": [],
   "source": [
    "X_train, X_test, y_train, y_test = train_test_split(poly_features, y, test_size=0.3, random_state=101)"
   ]
  },
  {
   "cell_type": "code",
   "execution_count": 17,
   "id": "a5699391",
   "metadata": {},
   "outputs": [],
   "source": [
    "from sklearn.linear_model import LinearRegression"
   ]
  },
  {
   "cell_type": "code",
   "execution_count": 18,
   "id": "d5767159",
   "metadata": {},
   "outputs": [],
   "source": [
    "model = LinearRegression()"
   ]
  },
  {
   "cell_type": "markdown",
   "id": "11c74df9",
   "metadata": {},
   "source": [
    "## This is now a training model on nine features. "
   ]
  },
  {
   "cell_type": "code",
   "execution_count": 19,
   "id": "96616213",
   "metadata": {},
   "outputs": [
    {
     "data": {
      "text/plain": [
       "LinearRegression()"
      ]
     },
     "execution_count": 19,
     "metadata": {},
     "output_type": "execute_result"
    }
   ],
   "source": [
    "model.fit(X_train,y_train)"
   ]
  },
  {
   "cell_type": "code",
   "execution_count": 20,
   "id": "6fa485be",
   "metadata": {},
   "outputs": [],
   "source": [
    "test_predictions = model.predict(X_test)"
   ]
  },
  {
   "cell_type": "code",
   "execution_count": 21,
   "id": "1ea3e281",
   "metadata": {},
   "outputs": [
    {
     "data": {
      "text/plain": [
       "array([ 5.17095811e-02,  1.30848864e-02,  1.20000085e-02, -1.10892474e-04,\n",
       "        1.14212673e-03, -5.24100082e-05,  3.34919737e-05,  1.46380310e-04,\n",
       "       -3.04715806e-05])"
      ]
     },
     "execution_count": 21,
     "metadata": {},
     "output_type": "execute_result"
    }
   ],
   "source": [
    "model.coef_  # 9 coefficient"
   ]
  },
  {
   "cell_type": "markdown",
   "id": "03b5a4c4",
   "metadata": {},
   "source": [
    "## Evaluate the performance"
   ]
  },
  {
   "cell_type": "code",
   "execution_count": 22,
   "id": "0a608ad1",
   "metadata": {},
   "outputs": [],
   "source": [
    "from sklearn.metrics import mean_absolute_error, mean_squared_error"
   ]
  },
  {
   "cell_type": "code",
   "execution_count": 23,
   "id": "befec598",
   "metadata": {},
   "outputs": [],
   "source": [
    "MAE = mean_absolute_error(y_test, test_predictions)"
   ]
  },
  {
   "cell_type": "code",
   "execution_count": 24,
   "id": "f20f76f5",
   "metadata": {},
   "outputs": [],
   "source": [
    "MSE = mean_squared_error(y_test, test_predictions)"
   ]
  },
  {
   "cell_type": "code",
   "execution_count": 25,
   "id": "5f280e73",
   "metadata": {},
   "outputs": [],
   "source": [
    "RMSE = np.sqrt(MSE)"
   ]
  },
  {
   "cell_type": "code",
   "execution_count": 26,
   "id": "328a7e36",
   "metadata": {},
   "outputs": [
    {
     "data": {
      "text/plain": [
       "0.48967980448037"
      ]
     },
     "execution_count": 26,
     "metadata": {},
     "output_type": "execute_result"
    }
   ],
   "source": [
    "MAE"
   ]
  },
  {
   "cell_type": "code",
   "execution_count": 27,
   "id": "c75e1d76",
   "metadata": {},
   "outputs": [
    {
     "data": {
      "text/plain": [
       "0.6646431757269196"
      ]
     },
     "execution_count": 27,
     "metadata": {},
     "output_type": "execute_result"
    }
   ],
   "source": [
    "RMSE"
   ]
  },
  {
   "cell_type": "markdown",
   "id": "2e109a53",
   "metadata": {},
   "source": [
    "## Overfitting or underfitting.\n",
    "## calculate which polynomial degree to choose."
   ]
  },
  {
   "cell_type": "code",
   "execution_count": 28,
   "id": "021517f5",
   "metadata": {},
   "outputs": [],
   "source": [
    "# create the different order poly\n",
    "# split poly feat train/test\n",
    "# fit on train\n",
    "# store/save the rmse for BOTH the train and test\n",
    "# PLOT the results (error vs poly order)"
   ]
  },
  {
   "cell_type": "code",
   "execution_count": 29,
   "id": "c029c27f",
   "metadata": {},
   "outputs": [],
   "source": [
    "train_rmse_errors = []\n",
    "test_rmse_errors = []\n",
    "\n",
    "for d in range(1,10):  # 10 is an extreme amount of degree but it's just for better visualization.\n",
    "    \n",
    "    poly_converter = PolynomialFeatures(degree=d,include_bias = False)\n",
    "    poly_features = poly_converter.fit_transform(X)\n",
    "    \n",
    "    X_train, X_test, y_train, y_test = train_test_split(poly_features, y, test_size=0.3, random_state=101)\n",
    "\n",
    "    model = LinearRegression()\n",
    "    model.fit(X_train,y_train)\n",
    "    \n",
    "    train_pred = model.predict(X_train)\n",
    "    test_pred = model.predict(X_test)\n",
    "    \n",
    "    train_rmse = np.sqrt(mean_squared_error(y_train,train_pred))\n",
    "    test_rmse = np.sqrt(mean_squared_error(y_test, test_pred))\n",
    "    \n",
    "    train_rmse_errors.append(train_rmse)\n",
    "    test_rmse_errors.append(test_rmse)"
   ]
  },
  {
   "cell_type": "code",
   "execution_count": 30,
   "id": "3dda0454",
   "metadata": {},
   "outputs": [
    {
     "data": {
      "text/plain": [
       "[1.734594124329376,\n",
       " 0.5879574085292233,\n",
       " 0.4339344356902067,\n",
       " 0.35170836883993495,\n",
       " 0.2509342951990972,\n",
       " 0.1971254009841768,\n",
       " 5.421422348088462,\n",
       " 0.1426544837726474,\n",
       " 0.16675345956185658]"
      ]
     },
     "execution_count": 30,
     "metadata": {},
     "output_type": "execute_result"
    }
   ],
   "source": [
    "train_rmse_errors"
   ]
  },
  {
   "cell_type": "code",
   "execution_count": 31,
   "id": "f5c17d81",
   "metadata": {},
   "outputs": [
    {
     "data": {
      "text/plain": [
       "[1.5161519375993873,\n",
       " 0.6646431757269196,\n",
       " 0.5803286825231453,\n",
       " 0.5077742623872589,\n",
       " 2.5758247707699113,\n",
       " 4.492670773896812,\n",
       " 1381.404068580479,\n",
       " 4449.568027403435,\n",
       " 95893.02658330933]"
      ]
     },
     "execution_count": 31,
     "metadata": {},
     "output_type": "execute_result"
    }
   ],
   "source": [
    "test_rmse_errors"
   ]
  },
  {
   "cell_type": "code",
   "execution_count": 32,
   "id": "8c17190d",
   "metadata": {},
   "outputs": [
    {
     "data": {
      "text/plain": [
       "<matplotlib.legend.Legend at 0x7f38f6fbc4c0>"
      ]
     },
     "execution_count": 32,
     "metadata": {},
     "output_type": "execute_result"
    },
    {
     "data": {
      "image/png": "[encoded data removed]",
      "text/plain": [
       "<Figure size 640x480 with 1 Axes>"
      ]
     },
     "metadata": {},
     "output_type": "display_data"
    }
   ],
   "source": [
    "plt.plot(range(1,6),train_rmse_errors[:5],label='TRAIN RMSE')\n",
    "plt.plot(range(1,6),test_rmse_errors[:5],label='TEST RMSE')\n",
    "\n",
    "plt.ylabel(\"RMSE\")\n",
    "plt.xlabel('degree of poly')\n",
    "plt.legend()"
   ]
  },
  {
   "cell_type": "markdown",
   "id": "de109e56",
   "metadata": {},
   "source": [
    "## final output based on RMSE"
   ]
  },
  {
   "cell_type": "code",
   "execution_count": 33,
   "id": "6b2420ce",
   "metadata": {},
   "outputs": [],
   "source": [
    "final_poly_converter = PolynomialFeatures(degree=3,include_bias=False)"
   ]
  },
  {
   "cell_type": "code",
   "execution_count": 34,
   "id": "69f6f1f2",
   "metadata": {},
   "outputs": [],
   "source": [
    "final_model = LinearRegression()"
   ]
  },
  {
   "cell_type": "code",
   "execution_count": 35,
   "id": "22c78a0c",
   "metadata": {},
   "outputs": [
    {
     "data": {
      "text/plain": [
       "LinearRegression()"
      ]
     },
     "execution_count": 35,
     "metadata": {},
     "output_type": "execute_result"
    }
   ],
   "source": [
    "full_converted_X = final_poly_converter.fit_transform(X)\n",
    "final_model.fit(full_converted_X,y)"
   ]
  },
  {
   "cell_type": "markdown",
   "id": "04f68019",
   "metadata": {},
   "source": [
    "## Saving the converter and the fitted final model"
   ]
  },
  {
   "cell_type": "code",
   "execution_count": 36,
   "id": "7d75e5cc",
   "metadata": {},
   "outputs": [],
   "source": [
    "from joblib import dump,load"
   ]
  },
  {
   "cell_type": "code",
   "execution_count": 37,
   "id": "ad435ae6",
   "metadata": {},
   "outputs": [
    {
     "data": {
      "text/plain": [
       "['final_poly_model.joblib']"
      ]
     },
     "execution_count": 37,
     "metadata": {},
     "output_type": "execute_result"
    }
   ],
   "source": [
    "dump(final_model,'final_poly_model.joblib')"
   ]
  },
  {
   "cell_type": "code",
   "execution_count": 38,
   "id": "16b12520",
   "metadata": {},
   "outputs": [
    {
     "data": {
      "text/plain": [
       "['final_converter.joblib']"
      ]
     },
     "execution_count": 38,
     "metadata": {},
     "output_type": "execute_result"
    }
   ],
   "source": [
    "dump(final_poly_converter,'final_converter.joblib')"
   ]
  },
  {
   "cell_type": "markdown",
   "id": "2269c550",
   "metadata": {},
   "source": [
    "## For predictiong future model with different dataset"
   ]
  },
  {
   "cell_type": "code",
   "execution_count": 39,
   "id": "5d52ab06",
   "metadata": {},
   "outputs": [],
   "source": [
    "loaded_converter = load('final_converter.joblib')"
   ]
  },
  {
   "cell_type": "code",
   "execution_count": 40,
   "id": "9e685240",
   "metadata": {},
   "outputs": [],
   "source": [
    "loaded_model = load('final_poly_model.joblib')"
   ]
  },
  {
   "cell_type": "code",
   "execution_count": 41,
   "id": "742f61a3",
   "metadata": {},
   "outputs": [],
   "source": [
    "campaign = [[149,22,12]]"
   ]
  },
  {
   "cell_type": "markdown",
   "id": "d7ae2ddf",
   "metadata": {},
   "source": [
    "## It expects more features for 3rd degree as it expects 9nth features for 2nd degree"
   ]
  },
  {
   "cell_type": "code",
   "execution_count": 42,
   "id": "6fdee021",
   "metadata": {},
   "outputs": [
    {
     "data": {
      "text/plain": [
       "array([[1.490000e+02, 2.200000e+01, 1.200000e+01, 2.220100e+04,\n",
       "        3.278000e+03, 1.788000e+03, 4.840000e+02, 2.640000e+02,\n",
       "        1.440000e+02, 3.307949e+06, 4.884220e+05, 2.664120e+05,\n",
       "        7.211600e+04, 3.933600e+04, 2.145600e+04, 1.064800e+04,\n",
       "        5.808000e+03, 3.168000e+03, 1.728000e+03]])"
      ]
     },
     "execution_count": 42,
     "metadata": {},
     "output_type": "execute_result"
    }
   ],
   "source": [
    "loaded_converter.fit_transform(campaign)"
   ]
  },
  {
   "cell_type": "code",
   "execution_count": 43,
   "id": "6c5d3efe",
   "metadata": {},
   "outputs": [
    {
     "data": {
      "text/plain": [
       "(1, 19)"
      ]
     },
     "execution_count": 43,
     "metadata": {},
     "output_type": "execute_result"
    }
   ],
   "source": [
    "loaded_converter.fit_transform(campaign).shape"
   ]
  },
  {
   "cell_type": "code",
   "execution_count": 44,
   "id": "b5e3ccf1",
   "metadata": {},
   "outputs": [],
   "source": [
    "transformed_data = loaded_converter.fit_transform(campaign)"
   ]
  },
  {
   "cell_type": "code",
   "execution_count": 45,
   "id": "196f1193",
   "metadata": {},
   "outputs": [
    {
     "data": {
      "text/plain": [
       "array([14.64501014])"
      ]
     },
     "execution_count": 45,
     "metadata": {},
     "output_type": "execute_result"
    }
   ],
   "source": [
    "loaded_model.predict(transformed_data)"
   ]
  }
 ],
 "metadata": {
  "kernelspec": {
   "display_name": "base",
   "language": "python",
   "name": "python3"
  },
  "language_info": {
   "codemirror_mode": {
    "name": "ipython",
    "version": 3
   },
   "file_extension": ".py",
   "mimetype": "text/x-python",
   "name": "python",
   "nbconvert_exporter": "python",
   "pygments_lexer": "ipython3",
   "version": "3.9.13 (main, Aug 25 2022, 23:26:10) \n[GCC 11.2.0]"
  },
  "vscode": {
   "interpreter": {
    "hash": "d2f1631a0503b3ea4a02f119f7505f9dd0a07ee1157f34412c73715c4f66bca6"
   }
  }
 },
 "nbformat": 4,
 "nbformat_minor": 5
}
