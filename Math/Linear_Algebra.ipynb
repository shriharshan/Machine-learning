{
 "cells": [
  {
   "cell_type": "code",
   "execution_count": 2,
   "id": "f1eac5fa-80cb-4243-aa24-7763a68a678d",
   "metadata": {},
   "outputs": [],
   "source": [
    "import numpy as np\n",
    "import matplotlib.pyplot as plt\n",
    "from scipy import stats"
   ]
  },
  {
   "cell_type": "markdown",
   "id": "529f40fb-aec2-427d-ae67-064de34f7d75",
   "metadata": {},
   "source": [
    "# Creating a Matrix"
   ]
  },
  {
   "cell_type": "code",
   "execution_count": 3,
   "id": "a796af13-505b-4b57-a3e5-0423232a6cbd",
   "metadata": {},
   "outputs": [],
   "source": [
    "x = np.array([[1, 3, 1], \n",
    "              [1, 0, 0]])\n",
    "\n",
    "y = np.array([[0, 0],\n",
    "              [7, 5],\n",
    "              [1, 1]])"
   ]
  },
  {
   "cell_type": "code",
   "execution_count": 6,
   "id": "4a36213d-7ca6-4be0-9568-4ebfbc2a3610",
   "metadata": {},
   "outputs": [
    {
     "data": {
      "text/plain": [
       "(2, 3)"
      ]
     },
     "execution_count": 6,
     "metadata": {},
     "output_type": "execute_result"
    }
   ],
   "source": [
    "x.shape"
   ]
  },
  {
   "cell_type": "code",
   "execution_count": 7,
   "id": "f5f6b093-8c97-4184-a65c-de534e8fc7fc",
   "metadata": {},
   "outputs": [
    {
     "data": {
      "text/plain": [
       "(3, 2)"
      ]
     },
     "execution_count": 7,
     "metadata": {},
     "output_type": "execute_result"
    }
   ],
   "source": [
    "y.shape"
   ]
  },
  {
   "cell_type": "markdown",
   "id": "d720b55a-2940-4fc3-b072-930ffdfe59e3",
   "metadata": {},
   "source": [
    "# Basic Operation"
   ]
  },
  {
   "cell_type": "code",
   "execution_count": 8,
   "id": "35e8eb94-ac38-4287-a527-18ebb58155c8",
   "metadata": {},
   "outputs": [],
   "source": [
    "arr_1 = np.array([[2, 3, 1],\n",
    "                 [1, 2, 3]])\n",
    "\n",
    "arr_2 = np.array([[0, 2, 3],\n",
    "                 [4, 0, 0]])\n",
    "\n",
    "arr_3 = np.array([[5, 1, 5],\n",
    "                 [4, 3, 2]])"
   ]
  },
  {
   "cell_type": "code",
   "execution_count": 9,
   "id": "68013e10-5b2f-40d2-9304-cd48de5e1d1d",
   "metadata": {},
   "outputs": [
    {
     "data": {
      "text/plain": [
       "array([[2, 5, 4],\n",
       "       [5, 2, 3]])"
      ]
     },
     "execution_count": 9,
     "metadata": {},
     "output_type": "execute_result"
    }
   ],
   "source": [
    "arr_1 + arr_2"
   ]
  },
  {
   "cell_type": "code",
   "execution_count": 10,
   "id": "9fe4eacd-44e3-41df-b429-69356287d397",
   "metadata": {},
   "outputs": [
    {
     "data": {
      "text/plain": [
       "array([[7, 4, 6],\n",
       "       [5, 5, 5]])"
      ]
     },
     "execution_count": 10,
     "metadata": {},
     "output_type": "execute_result"
    }
   ],
   "source": [
    "arr_1 + arr_3"
   ]
  },
  {
   "cell_type": "code",
   "execution_count": 11,
   "id": "62e62b7e-377c-409d-9eee-4fa74e474215",
   "metadata": {},
   "outputs": [
    {
     "name": "stdout",
     "output_type": "stream",
     "text": [
      "can only add matrices if their dimensions are the same\n"
     ]
    }
   ],
   "source": [
    "try:\n",
    "    x + y\n",
    "except:\n",
    "    print('can only add matrices if their dimensions are the same')"
   ]
  },
  {
   "cell_type": "markdown",
   "id": "8a39aaf8-a187-4af2-b176-38d507383a5a",
   "metadata": {},
   "source": [
    "# Commutative Property"
   ]
  },
  {
   "cell_type": "code",
   "execution_count": 12,
   "id": "b1ee7572-887d-4a94-9282-03a03c1930d4",
   "metadata": {},
   "outputs": [
    {
     "data": {
      "text/plain": [
       "array([[ True,  True,  True],\n",
       "       [ True,  True,  True]])"
      ]
     },
     "execution_count": 12,
     "metadata": {},
     "output_type": "execute_result"
    }
   ],
   "source": [
    "arr_1 + arr_2 == arr_2 + arr_1"
   ]
  },
  {
   "cell_type": "markdown",
   "id": "f7479a83-9e2e-4e7e-b252-096b7d99f41d",
   "metadata": {},
   "source": [
    "# Associative Property"
   ]
  },
  {
   "cell_type": "code",
   "execution_count": 14,
   "id": "2ba7290a-6241-486c-9c0d-4fb5a9214f2b",
   "metadata": {},
   "outputs": [
    {
     "data": {
      "text/plain": [
       "array([[ True,  True,  True],\n",
       "       [ True,  True,  True]])"
      ]
     },
     "execution_count": 14,
     "metadata": {},
     "output_type": "execute_result"
    }
   ],
   "source": [
    "(arr_1 + arr_2) + arr_3 == arr_1 + (arr_2 + arr_3)"
   ]
  },
  {
   "cell_type": "markdown",
   "id": "2d667c7c-b122-4d3e-bcc4-87d000034d9a",
   "metadata": {},
   "source": [
    "# Visualizing Matrix Addition"
   ]
  },
  {
   "cell_type": "code",
   "execution_count": 15,
   "id": "c6b09fbc-b42d-464b-bcfa-6d79314ea767",
   "metadata": {},
   "outputs": [],
   "source": [
    "v1 = np.array([4, 4])\n",
    "v2 = np.array([-1, -2])"
   ]
  },
  {
   "cell_type": "code",
   "execution_count": 25,
   "id": "29010fa2-ae06-4293-b01b-345e3b8f0a84",
   "metadata": {},
   "outputs": [
    {
     "data": {
      "text/plain": [
       "Text(0.5, 1.0, 'Matrix Multiplication')"
      ]
     },
     "execution_count": 25,
     "metadata": {},
     "output_type": "execute_result"
    },
    {
     "data": {
      "image/png": "[encoded data removed]",
      "text/plain": [
       "<Figure size 640x480 with 1 Axes>"
      ]
     },
     "metadata": {},
     "output_type": "display_data"
    }
   ],
   "source": [
    "# plot points\n",
    "plt.scatter([0, v1[0], v1[0] + v2[0]], [0, v1[1], v1[1] + v2[1]], color='red')\n",
    "\n",
    "#plot line\n",
    "plt.plot([0, v1[0], v1[0] + v2[0]], [0, v1[0], v1[1] + v2[1]])\n",
    "\n",
    "plt.grid()\n",
    "plt.xticks(np.arange(-1, 7, 1))\n",
    "plt.yticks(np.arange(-2, 7, 1))\n",
    "plt.axvline(x = 0, color = 'black')\n",
    "plt.axhline(y = 0, color = 'black')\n",
    "plt.title('Matrix Multiplication')"
   ]
  },
  {
   "cell_type": "markdown",
   "id": "5d496c63-4a03-4c30-83de-bf2690ef2625",
   "metadata": {},
   "source": [
    "# Scalar Multiplication"
   ]
  },
  {
   "cell_type": "code",
   "execution_count": 22,
   "id": "4bd37183-c747-4c64-813c-c7ebeeeb32e9",
   "metadata": {},
   "outputs": [
    {
     "data": {
      "text/plain": [
       "array([[ 2. ,  0. , 10. ],\n",
       "       [ 4. , -4. ,  7. ],\n",
       "       [ 8. , -6. , 24.4]])"
      ]
     },
     "execution_count": 22,
     "metadata": {},
     "output_type": "execute_result"
    }
   ],
   "source": [
    "z = np.array([[1, 0, 5],\n",
    "             [2, -2, 3.5],\n",
    "             [4, -3, 12.2]])\n",
    "\n",
    "z * 2"
   ]
  },
  {
   "cell_type": "code",
   "execution_count": 23,
   "id": "793cbe2b-568e-4883-86b2-b6f8eb640541",
   "metadata": {},
   "outputs": [],
   "source": [
    "v3 = np.array([2, 1])"
   ]
  },
  {
   "cell_type": "markdown",
   "id": "b557bc71-de91-49ff-91f1-d90d1b34388f",
   "metadata": {},
   "source": [
    "# Visualizing Scalar Multiplication"
   ]
  },
  {
   "cell_type": "code",
   "execution_count": 29,
   "id": "684a8929-343c-4671-83e5-7321a011e384",
   "metadata": {},
   "outputs": [
    {
     "data": {
      "text/plain": [
       "Text(0.5, 1.0, 'Matrix Scalar Multiplication')"
      ]
     },
     "execution_count": 29,
     "metadata": {},
     "output_type": "execute_result"
    },
    {
     "data": {
      "image/png": "[encoded data removed]",
      "text/plain": [
       "<Figure size 640x480 with 1 Axes>"
      ]
     },
     "metadata": {},
     "output_type": "display_data"
    }
   ],
   "source": [
    "# plot points\n",
    "plt.scatter([v3[0], v3[0] * -3], [v3[1], v3[1] * -3], color='red')\n",
    "\n",
    "# plot line\n",
    "plt.plot([v3[0], v3[0] * -3], [v3[1], v3[1] * -3])\n",
    "\n",
    "plt.grid()\n",
    "plt.xticks(np.arange(-6, 7, 1))\n",
    "plt.yticks(np.arange(-6, 7, 1))\n",
    "plt.axvline(x = 0, color = 'black')\n",
    "plt.axhline(y = 0, color = 'black')\n",
    "plt.title('Matrix Scalar Multiplication')"
   ]
  },
  {
   "cell_type": "markdown",
   "id": "550f15f8-94de-4895-a4ba-24548fa8dc07",
   "metadata": {},
   "source": [
    "# Dot Product (Matrix Multiplication)"
   ]
  },
  {
   "cell_type": "markdown",
   "id": "82a59d8d-2aaa-4742-9087-4fe5386d296a",
   "metadata": {},
   "source": [
    "The dot product or scalar product is an algebraic operation that takes two equal-length sequances of numbers (usually coordinate vectors), and return a single number"
   ]
  },
  {
   "cell_type": "code",
   "execution_count": 30,
   "id": "0350f313-d2ab-498c-a79b-87433e7292c3",
   "metadata": {},
   "outputs": [
    {
     "data": {
      "text/plain": [
       "19"
      ]
     },
     "execution_count": 30,
     "metadata": {},
     "output_type": "execute_result"
    }
   ],
   "source": [
    "q = np.array([4, 3])\n",
    "r = np.array([4, 1])\n",
    "\n",
    "q.dot(r)"
   ]
  },
  {
   "cell_type": "markdown",
   "id": "91b90c24-ae38-4f79-8066-e248c0afc27a",
   "metadata": {},
   "source": [
    "# Commutative Property"
   ]
  },
  {
   "cell_type": "code",
   "execution_count": 31,
   "id": "2e1b7a59-1fff-4a36-a13c-a0d271db3d47",
   "metadata": {},
   "outputs": [
    {
     "data": {
      "text/plain": [
       "True"
      ]
     },
     "execution_count": 31,
     "metadata": {},
     "output_type": "execute_result"
    }
   ],
   "source": [
    "q.dot(r) == r.dot(q)"
   ]
  },
  {
   "cell_type": "markdown",
   "id": "e375aa8c-500b-4c6c-9471-2ec94fbe3dae",
   "metadata": {},
   "source": [
    "# Associative Property (Does not hold for matrix multiplication)"
   ]
  },
  {
   "cell_type": "code",
   "execution_count": 32,
   "id": "79ca2d9f-2d2e-4c43-b185-33f01bf2b4d5",
   "metadata": {},
   "outputs": [
    {
     "data": {
      "text/plain": [
       "array([False, False])"
      ]
     },
     "execution_count": 32,
     "metadata": {},
     "output_type": "execute_result"
    }
   ],
   "source": [
    "s = np.array([2, 2])\n",
    "q.dot(r.dot(s)) == s.dot(r.dot(q))"
   ]
  },
  {
   "cell_type": "markdown",
   "id": "1e1ef82d-7dce-40c7-a3a2-f6ce14169e74",
   "metadata": {},
   "source": [
    "# Linear Regression"
   ]
  },
  {
   "cell_type": "markdown",
   "id": "78b208da-d243-4de3-825c-d3e736bda9eb",
   "metadata": {},
   "source": [
    "## Finding the correlation between teo data sets (Linear Regression)"
   ]
  },
  {
   "cell_type": "code",
   "execution_count": 33,
   "id": "d1c07a3f-5c8e-4143-88c4-612f76365c06",
   "metadata": {},
   "outputs": [],
   "source": [
    "def gradient_descent(m_now ,b_now, points, L):\n",
    "    m_gradient = 0\n",
    "    b_gradient = 0\n",
    "\n",
    "    n = len(points)\n",
    "    for i in range(n):\n",
    "        x = points.iloc[i].TV\n",
    "        y = points.iloc[i].Sales\n",
    "\n",
    "        m_gradient += -(2/n) * x * (y - (m_now * x + b_now))\n",
    "        b_gradient += -(2/n) * (y - (m_now * x + b_now))\n",
    "\n",
    "    m = m_now - m_gradient * L\n",
    "    b = b_now - b_gradient * L\n",
    "    return m, b"
   ]
  }
 ],
 "metadata": {
  "kernelspec": {
   "display_name": "Python 3 (ipykernel)",
   "language": "python",
   "name": "python3"
  },
  "language_info": {
   "codemirror_mode": {
    "name": "ipython",
    "version": 3
   },
   "file_extension": ".py",
   "mimetype": "text/x-python",
   "name": "python",
   "nbconvert_exporter": "python",
   "pygments_lexer": "ipython3",
   "version": "3.10.9"
  }
 },
 "nbformat": 4,
 "nbformat_minor": 5
}
